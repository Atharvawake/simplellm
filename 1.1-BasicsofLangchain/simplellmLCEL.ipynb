{
 "cells": [
  {
   "cell_type": "code",
   "execution_count": 1,
   "id": "0f35965a",
   "metadata": {},
   "outputs": [
    {
     "data": {
      "text/plain": [
       "2"
      ]
     },
     "execution_count": 1,
     "metadata": {},
     "output_type": "execute_result"
    }
   ],
   "source": [
    "1+1\n"
   ]
  },
  {
   "cell_type": "code",
   "execution_count": 16,
   "id": "f5630997",
   "metadata": {},
   "outputs": [],
   "source": [
    "import os\n",
    "from dotenv import load_dotenv\n",
    "load_dotenv()\n",
    "\n",
    "groq_api_key=os.getenv(\"GROQ_API_KEY\")\n",
    "\n"
   ]
  },
  {
   "cell_type": "code",
   "execution_count": 2,
   "id": "4fee7f57",
   "metadata": {},
   "outputs": [
    {
     "name": "stdout",
     "output_type": "stream",
     "text": [
      "Requirement already satisfied: langchain_groq in c:\\users\\wakea\\desktop\\simplelcel\\langchain_env\\lib\\site-packages (0.3.8)\n",
      "Requirement already satisfied: langchain-core<1.0.0,>=0.3.75 in c:\\users\\wakea\\desktop\\simplelcel\\langchain_env\\lib\\site-packages (from langchain_groq) (0.3.76)\n",
      "Requirement already satisfied: groq<1,>=0.30.0 in c:\\users\\wakea\\desktop\\simplelcel\\langchain_env\\lib\\site-packages (from langchain_groq) (0.31.1)\n",
      "Requirement already satisfied: anyio<5,>=3.5.0 in c:\\users\\wakea\\desktop\\simplelcel\\langchain_env\\lib\\site-packages (from groq<1,>=0.30.0->langchain_groq) (4.10.0)\n",
      "Requirement already satisfied: distro<2,>=1.7.0 in c:\\users\\wakea\\desktop\\simplelcel\\langchain_env\\lib\\site-packages (from groq<1,>=0.30.0->langchain_groq) (1.9.0)\n",
      "Requirement already satisfied: httpx<1,>=0.23.0 in c:\\users\\wakea\\desktop\\simplelcel\\langchain_env\\lib\\site-packages (from groq<1,>=0.30.0->langchain_groq) (0.28.1)\n",
      "Requirement already satisfied: pydantic<3,>=1.9.0 in c:\\users\\wakea\\desktop\\simplelcel\\langchain_env\\lib\\site-packages (from groq<1,>=0.30.0->langchain_groq) (2.11.9)\n",
      "Requirement already satisfied: sniffio in c:\\users\\wakea\\desktop\\simplelcel\\langchain_env\\lib\\site-packages (from groq<1,>=0.30.0->langchain_groq) (1.3.1)\n",
      "Requirement already satisfied: typing-extensions<5,>=4.10 in c:\\users\\wakea\\desktop\\simplelcel\\langchain_env\\lib\\site-packages (from groq<1,>=0.30.0->langchain_groq) (4.15.0)\n",
      "Requirement already satisfied: exceptiongroup>=1.0.2 in c:\\users\\wakea\\desktop\\simplelcel\\langchain_env\\lib\\site-packages (from anyio<5,>=3.5.0->groq<1,>=0.30.0->langchain_groq) (1.3.0)\n",
      "Requirement already satisfied: idna>=2.8 in c:\\users\\wakea\\desktop\\simplelcel\\langchain_env\\lib\\site-packages (from anyio<5,>=3.5.0->groq<1,>=0.30.0->langchain_groq) (3.10)\n",
      "Requirement already satisfied: certifi in c:\\users\\wakea\\desktop\\simplelcel\\langchain_env\\lib\\site-packages (from httpx<1,>=0.23.0->groq<1,>=0.30.0->langchain_groq) (2025.8.3)\n",
      "Requirement already satisfied: httpcore==1.* in c:\\users\\wakea\\desktop\\simplelcel\\langchain_env\\lib\\site-packages (from httpx<1,>=0.23.0->groq<1,>=0.30.0->langchain_groq) (1.0.9)\n",
      "Requirement already satisfied: h11>=0.16 in c:\\users\\wakea\\desktop\\simplelcel\\langchain_env\\lib\\site-packages (from httpcore==1.*->httpx<1,>=0.23.0->groq<1,>=0.30.0->langchain_groq) (0.16.0)\n",
      "Requirement already satisfied: langsmith>=0.3.45 in c:\\users\\wakea\\desktop\\simplelcel\\langchain_env\\lib\\site-packages (from langchain-core<1.0.0,>=0.3.75->langchain_groq) (0.4.29)\n",
      "Requirement already satisfied: tenacity!=8.4.0,<10.0.0,>=8.1.0 in c:\\users\\wakea\\desktop\\simplelcel\\langchain_env\\lib\\site-packages (from langchain-core<1.0.0,>=0.3.75->langchain_groq) (9.1.2)\n",
      "Requirement already satisfied: jsonpatch<2.0,>=1.33 in c:\\users\\wakea\\desktop\\simplelcel\\langchain_env\\lib\\site-packages (from langchain-core<1.0.0,>=0.3.75->langchain_groq) (1.33)\n",
      "Requirement already satisfied: PyYAML>=5.3 in c:\\users\\wakea\\desktop\\simplelcel\\langchain_env\\lib\\site-packages (from langchain-core<1.0.0,>=0.3.75->langchain_groq) (6.0.2)\n",
      "Requirement already satisfied: packaging>=23.2 in c:\\users\\wakea\\desktop\\simplelcel\\langchain_env\\lib\\site-packages (from langchain-core<1.0.0,>=0.3.75->langchain_groq) (25.0)\n",
      "Requirement already satisfied: jsonpointer>=1.9 in c:\\users\\wakea\\desktop\\simplelcel\\langchain_env\\lib\\site-packages (from jsonpatch<2.0,>=1.33->langchain-core<1.0.0,>=0.3.75->langchain_groq) (3.0.0)\n",
      "Requirement already satisfied: annotated-types>=0.6.0 in c:\\users\\wakea\\desktop\\simplelcel\\langchain_env\\lib\\site-packages (from pydantic<3,>=1.9.0->groq<1,>=0.30.0->langchain_groq) (0.7.0)\n",
      "Requirement already satisfied: pydantic-core==2.33.2 in c:\\users\\wakea\\desktop\\simplelcel\\langchain_env\\lib\\site-packages (from pydantic<3,>=1.9.0->groq<1,>=0.30.0->langchain_groq) (2.33.2)\n",
      "Requirement already satisfied: typing-inspection>=0.4.0 in c:\\users\\wakea\\desktop\\simplelcel\\langchain_env\\lib\\site-packages (from pydantic<3,>=1.9.0->groq<1,>=0.30.0->langchain_groq) (0.4.1)\n",
      "Requirement already satisfied: orjson>=3.9.14 in c:\\users\\wakea\\desktop\\simplelcel\\langchain_env\\lib\\site-packages (from langsmith>=0.3.45->langchain-core<1.0.0,>=0.3.75->langchain_groq) (3.11.3)\n",
      "Requirement already satisfied: requests-toolbelt>=1.0.0 in c:\\users\\wakea\\desktop\\simplelcel\\langchain_env\\lib\\site-packages (from langsmith>=0.3.45->langchain-core<1.0.0,>=0.3.75->langchain_groq) (1.0.0)\n",
      "Requirement already satisfied: requests>=2.0.0 in c:\\users\\wakea\\desktop\\simplelcel\\langchain_env\\lib\\site-packages (from langsmith>=0.3.45->langchain-core<1.0.0,>=0.3.75->langchain_groq) (2.32.5)\n",
      "Requirement already satisfied: zstandard>=0.23.0 in c:\\users\\wakea\\desktop\\simplelcel\\langchain_env\\lib\\site-packages (from langsmith>=0.3.45->langchain-core<1.0.0,>=0.3.75->langchain_groq) (0.25.0)\n",
      "Requirement already satisfied: charset_normalizer<4,>=2 in c:\\users\\wakea\\desktop\\simplelcel\\langchain_env\\lib\\site-packages (from requests>=2.0.0->langsmith>=0.3.45->langchain-core<1.0.0,>=0.3.75->langchain_groq) (3.4.3)\n",
      "Requirement already satisfied: urllib3<3,>=1.21.1 in c:\\users\\wakea\\desktop\\simplelcel\\langchain_env\\lib\\site-packages (from requests>=2.0.0->langsmith>=0.3.45->langchain-core<1.0.0,>=0.3.75->langchain_groq) (2.5.0)\n"
     ]
    }
   ],
   "source": [
    "!pip install langchain_groq"
   ]
  },
  {
   "cell_type": "code",
   "execution_count": 17,
   "id": "03538438",
   "metadata": {},
   "outputs": [],
   "source": [
    "from langchain_groq import ChatGroq\n",
    "model = ChatGroq(model=\"Gemma2-9b-It\", groq_api_key=groq_api_key)\n",
    "\n",
    "\n",
    "\n"
   ]
  },
  {
   "cell_type": "code",
   "execution_count": 9,
   "metadata": {},
   "outputs": [
    {
     "name": "stdout",
     "output_type": "stream",
     "text": [
      "Requirement already satisfied: langchain_core in c:\\users\\wakea\\desktop\\simplelcel\\langchain_env\\lib\\site-packages (0.3.76)\n",
      "Requirement already satisfied: langsmith>=0.3.45 in c:\\users\\wakea\\desktop\\simplelcel\\langchain_env\\lib\\site-packages (from langchain_core) (0.4.29)\n",
      "Requirement already satisfied: tenacity!=8.4.0,<10.0.0,>=8.1.0 in c:\\users\\wakea\\desktop\\simplelcel\\langchain_env\\lib\\site-packages (from langchain_core) (9.1.2)\n",
      "Requirement already satisfied: jsonpatch<2.0,>=1.33 in c:\\users\\wakea\\desktop\\simplelcel\\langchain_env\\lib\\site-packages (from langchain_core) (1.33)\n",
      "Requirement already satisfied: PyYAML>=5.3 in c:\\users\\wakea\\desktop\\simplelcel\\langchain_env\\lib\\site-packages (from langchain_core) (6.0.2)\n",
      "Requirement already satisfied: typing-extensions>=4.7 in c:\\users\\wakea\\desktop\\simplelcel\\langchain_env\\lib\\site-packages (from langchain_core) (4.15.0)\n",
      "Requirement already satisfied: packaging>=23.2 in c:\\users\\wakea\\desktop\\simplelcel\\langchain_env\\lib\\site-packages (from langchain_core) (25.0)\n",
      "Requirement already satisfied: pydantic>=2.7.4 in c:\\users\\wakea\\desktop\\simplelcel\\langchain_env\\lib\\site-packages (from langchain_core) (2.11.9)\n",
      "Requirement already satisfied: jsonpointer>=1.9 in c:\\users\\wakea\\desktop\\simplelcel\\langchain_env\\lib\\site-packages (from jsonpatch<2.0,>=1.33->langchain_core) (3.0.0)\n",
      "Requirement already satisfied: httpx<1,>=0.23.0 in c:\\users\\wakea\\desktop\\simplelcel\\langchain_env\\lib\\site-packages (from langsmith>=0.3.45->langchain_core) (0.28.1)\n",
      "Requirement already satisfied: orjson>=3.9.14 in c:\\users\\wakea\\desktop\\simplelcel\\langchain_env\\lib\\site-packages (from langsmith>=0.3.45->langchain_core) (3.11.3)\n",
      "Requirement already satisfied: requests-toolbelt>=1.0.0 in c:\\users\\wakea\\desktop\\simplelcel\\langchain_env\\lib\\site-packages (from langsmith>=0.3.45->langchain_core) (1.0.0)\n",
      "Requirement already satisfied: requests>=2.0.0 in c:\\users\\wakea\\desktop\\simplelcel\\langchain_env\\lib\\site-packages (from langsmith>=0.3.45->langchain_core) (2.32.5)\n",
      "Requirement already satisfied: zstandard>=0.23.0 in c:\\users\\wakea\\desktop\\simplelcel\\langchain_env\\lib\\site-packages (from langsmith>=0.3.45->langchain_core) (0.25.0)\n",
      "Requirement already satisfied: anyio in c:\\users\\wakea\\desktop\\simplelcel\\langchain_env\\lib\\site-packages (from httpx<1,>=0.23.0->langsmith>=0.3.45->langchain_core) (4.10.0)\n",
      "Requirement already satisfied: certifi in c:\\users\\wakea\\desktop\\simplelcel\\langchain_env\\lib\\site-packages (from httpx<1,>=0.23.0->langsmith>=0.3.45->langchain_core) (2025.8.3)\n",
      "Requirement already satisfied: httpcore==1.* in c:\\users\\wakea\\desktop\\simplelcel\\langchain_env\\lib\\site-packages (from httpx<1,>=0.23.0->langsmith>=0.3.45->langchain_core) (1.0.9)\n",
      "Requirement already satisfied: idna in c:\\users\\wakea\\desktop\\simplelcel\\langchain_env\\lib\\site-packages (from httpx<1,>=0.23.0->langsmith>=0.3.45->langchain_core) (3.10)\n",
      "Requirement already satisfied: h11>=0.16 in c:\\users\\wakea\\desktop\\simplelcel\\langchain_env\\lib\\site-packages (from httpcore==1.*->httpx<1,>=0.23.0->langsmith>=0.3.45->langchain_core) (0.16.0)\n",
      "Requirement already satisfied: annotated-types>=0.6.0 in c:\\users\\wakea\\desktop\\simplelcel\\langchain_env\\lib\\site-packages (from pydantic>=2.7.4->langchain_core) (0.7.0)\n",
      "Requirement already satisfied: pydantic-core==2.33.2 in c:\\users\\wakea\\desktop\\simplelcel\\langchain_env\\lib\\site-packages (from pydantic>=2.7.4->langchain_core) (2.33.2)\n",
      "Requirement already satisfied: typing-inspection>=0.4.0 in c:\\users\\wakea\\desktop\\simplelcel\\langchain_env\\lib\\site-packages (from pydantic>=2.7.4->langchain_core) (0.4.1)\n",
      "Requirement already satisfied: charset_normalizer<4,>=2 in c:\\users\\wakea\\desktop\\simplelcel\\langchain_env\\lib\\site-packages (from requests>=2.0.0->langsmith>=0.3.45->langchain_core) (3.4.3)\n",
      "Requirement already satisfied: urllib3<3,>=1.21.1 in c:\\users\\wakea\\desktop\\simplelcel\\langchain_env\\lib\\site-packages (from requests>=2.0.0->langsmith>=0.3.45->langchain_core) (2.5.0)\n",
      "Requirement already satisfied: exceptiongroup>=1.0.2 in c:\\users\\wakea\\desktop\\simplelcel\\langchain_env\\lib\\site-packages (from anyio->httpx<1,>=0.23.0->langsmith>=0.3.45->langchain_core) (1.3.0)\n",
      "Requirement already satisfied: sniffio>=1.1 in c:\\users\\wakea\\desktop\\simplelcel\\langchain_env\\lib\\site-packages (from anyio->httpx<1,>=0.23.0->langsmith>=0.3.45->langchain_core) (1.3.1)\n"
     ]
    }
   ],
   "source": [
    "!pip install langchain_core"
   ]
  },
  {
   "cell_type": "code",
   "execution_count": 12,
   "metadata": {},
   "outputs": [],
   "source": [
    "from langchain_core.messages import HumanMessage,SystemMessage\n",
    "\n",
    "messages=[\n",
    "    SystemMessage(content=\"Transate the following from english to french\"),\n",
    "    HumanMessage(content=\"Hello how are you\")\n",
    "]\n",
    "result=model.invoke(messages)"
   ]
  },
  {
   "cell_type": "code",
   "execution_count": 13,
   "id": "6d7c08fe",
   "metadata": {},
   "outputs": [
    {
     "data": {
      "text/plain": [
       "AIMessage(content='Bonjour, comment allez-vous ? \\n', additional_kwargs={}, response_metadata={'token_usage': {'completion_tokens': 11, 'prompt_tokens': 21, 'total_tokens': 32, 'completion_time': 0.02, 'prompt_time': 0.001339659, 'queue_time': 0.252479121, 'total_time': 0.021339659}, 'model_name': 'Gemma2-9b-It', 'system_fingerprint': 'fp_10c08bf97d', 'service_tier': 'on_demand', 'finish_reason': 'stop', 'logprobs': None}, id='run--b401a9c7-9e65-435e-b834-0c7b45e61aee-0', usage_metadata={'input_tokens': 21, 'output_tokens': 11, 'total_tokens': 32})"
      ]
     },
     "execution_count": 13,
     "metadata": {},
     "output_type": "execute_result"
    }
   ],
   "source": [
    "result"
   ]
  },
  {
   "cell_type": "code",
   "execution_count": 14,
   "id": "98c270d0",
   "metadata": {},
   "outputs": [
    {
     "data": {
      "text/plain": [
       "'Bonjour, comment allez-vous ? \\n'"
      ]
     },
     "execution_count": 14,
     "metadata": {},
     "output_type": "execute_result"
    }
   ],
   "source": [
    "from langchain_core.output_parsers import StrOutputParser\n",
    "parser=StrOutputParser()\n",
    "parser.invoke(result)"
   ]
  },
  {
   "cell_type": "code",
   "execution_count": 15,
   "id": "aefef23a",
   "metadata": {},
   "outputs": [
    {
     "data": {
      "text/plain": [
       "\"Bonjour, comment allez-vous ? \\n\\n\\nLet me know if you'd like me to translate anything else!\\n\""
      ]
     },
     "execution_count": 15,
     "metadata": {},
     "output_type": "execute_result"
    }
   ],
   "source": [
    "chain=model|parser\n",
    "chain.invoke(messages)"
   ]
  },
  {
   "cell_type": "code",
   "execution_count": 18,
   "id": "effbd83f",
   "metadata": {},
   "outputs": [],
   "source": [
    "from langchain_core.prompts import ChatPromptTemplate\n",
    "generic_template=\"Translate the following into {language}:\"\n",
    "\n",
    "prompt=ChatPromptTemplate.from_messages(\n",
    "    [(\"system\",generic_template),(\"user\",\"{text}\")]\n",
    ")"
   ]
  },
  {
   "cell_type": "code",
   "execution_count": 20,
   "id": "5b9e0245",
   "metadata": {},
   "outputs": [],
   "source": [
    "result=prompt.invoke({\"language\":\"French\",\"text\":\"Hello\"})"
   ]
  },
  {
   "cell_type": "code",
   "execution_count": 22,
   "id": "65465d7a",
   "metadata": {},
   "outputs": [
    {
     "data": {
      "text/plain": [
       "[SystemMessage(content='Translate the following into French:', additional_kwargs={}, response_metadata={}),\n",
       " HumanMessage(content='Hello', additional_kwargs={}, response_metadata={})]"
      ]
     },
     "execution_count": 22,
     "metadata": {},
     "output_type": "execute_result"
    }
   ],
   "source": [
    "result.to_messages()"
   ]
  },
  {
   "cell_type": "code",
   "execution_count": 23,
   "id": "8e0f95f8",
   "metadata": {},
   "outputs": [
    {
     "data": {
      "text/plain": [
       "'Bonjour \\n'"
      ]
     },
     "execution_count": 23,
     "metadata": {},
     "output_type": "execute_result"
    }
   ],
   "source": [
    "chain=prompt|model|parser\n",
    "chain.invoke({\"language\":\"French\",\"text\":\"Hello\"})"
   ]
  },
  {
   "cell_type": "code",
   "execution_count": null,
   "id": "ca2af9ee",
   "metadata": {},
   "outputs": [],
   "source": []
  },
  {
   "cell_type": "code",
   "execution_count": null,
   "id": "fcf5c1cf",
   "metadata": {},
   "outputs": [],
   "source": []
  },
  {
   "cell_type": "code",
   "execution_count": null,
   "id": "02fa838d",
   "metadata": {},
   "outputs": [],
   "source": []
  },
  {
   "cell_type": "code",
   "execution_count": null,
   "id": "62d53389",
   "metadata": {},
   "outputs": [],
   "source": []
  },
  {
   "cell_type": "code",
   "execution_count": null,
   "id": "01a18c12",
   "metadata": {},
   "outputs": [],
   "source": []
  },
  {
   "cell_type": "code",
   "execution_count": null,
   "id": "26b7d229",
   "metadata": {},
   "outputs": [],
   "source": []
  },
  {
   "cell_type": "code",
   "execution_count": null,
   "id": "d287b17e",
   "metadata": {},
   "outputs": [],
   "source": []
  },
  {
   "cell_type": "code",
   "execution_count": null,
   "metadata": {},
   "outputs": [],
   "source": []
  }
 ],
 "metadata": {
  "kernelspec": {
   "display_name": "Python 3",
   "language": "python",
   "name": "python3"
  },
  "language_info": {
   "codemirror_mode": {
    "name": "ipython",
    "version": 3
   },
   "file_extension": ".py",
   "mimetype": "text/x-python",
   "name": "python",
   "nbconvert_exporter": "python",
   "pygments_lexer": "ipython3",
   "version": "3.10.0"
  }
 },
 "nbformat": 4,
 "nbformat_minor": 5
}
